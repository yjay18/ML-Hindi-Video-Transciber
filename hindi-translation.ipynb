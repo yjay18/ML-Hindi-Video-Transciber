{
 "cells": [
  {
   "cell_type": "code",
   "execution_count": null,
   "id": "1f0abb32",
   "metadata": {},
   "outputs": [],
   "source": [
    "\n",
    "!pip install google-cloud-media-translation\n",
    "!pip install moviepy\n",
    "!pip install google-cloud-speech==2.19.0\n",
    "!pip install google-cloud-language\n",
    "!pip install google-cloud-translate\n",
    "\n",
    "\n",
    "\n"
   ]
  },
  {
   "cell_type": "code",
   "execution_count": 1,
   "id": "01aec839",
   "metadata": {},
   "outputs": [],
   "source": [
    "import io\n",
    "import os\n",
    "from google.cloud import mediatranslation\n",
    "from google.protobuf import duration_pb2\n",
    "from google.cloud import speech_v1 as speech\n",
    "from google.cloud import mediatranslation, language_v1\n",
    "from google.cloud import translate_v2 as translate\n",
    "\n",
    "# Set Google Cloud credentials\n",
    "os.environ['GOOGLE_APPLICATION_CREDENTIALS'] = 'creds.json'"
   ]
  },
  {
   "cell_type": "code",
   "execution_count": 2,
   "id": "e25c1034",
   "metadata": {},
   "outputs": [],
   "source": [
    "# Set input and output file paths\n",
    "video_file = 'myvideo.mp4'\n",
    "with open('output.txt', 'w') as f:\n",
    "    f.write('This is the output file.')\n",
    "output_file = 'output.txt'\n",
    "\n"
   ]
  },
  {
   "cell_type": "code",
   "execution_count": 3,
   "id": "9414e9cb",
   "metadata": {},
   "outputs": [
    {
     "name": "stdout",
     "output_type": "stream",
     "text": [
      "MoviePy - Writing audio in temp_audio_file.wav\n"
     ]
    },
    {
     "name": "stderr",
     "output_type": "stream",
     "text": [
      "                                                                                                                       "
     ]
    },
    {
     "name": "stdout",
     "output_type": "stream",
     "text": [
      "MoviePy - Done.\n"
     ]
    },
    {
     "name": "stderr",
     "output_type": "stream",
     "text": [
      "\r"
     ]
    }
   ],
   "source": [
    "# Extract audio from video and write to temporary audio file\n",
    "import moviepy.editor as mp\n",
    "video = mp.VideoFileClip(video_file)\n",
    "audio = video.audio\n",
    "audio.write_audiofile(\"temp_audio_file.wav\", fps=16000, nbytes=2, codec='pcm_s16le')\n"
   ]
  },
  {
   "cell_type": "code",
   "execution_count": 4,
   "id": "43b5a51a",
   "metadata": {},
   "outputs": [],
   "source": [
    "\n",
    "def translate_from_file(input_file_path=\"temp_audio_file.wav\", output_file_path=\"output.txt\"):\n",
    "\n",
    "    client = mediatranslation.SpeechTranslationServiceClient()\n",
    "    language_client = language_v1.LanguageServiceClient()\n",
    "\n",
    "    # The `sample_rate_hertz` field is not required for FLAC and WAV (Linear16)\n",
    "    # encoded data. Other audio encodings must provide the sampling rate.\n",
    "    audio_config = mediatranslation.TranslateSpeechConfig(\n",
    "        audio_encoding=\"linear16\",\n",
    "        source_language_code=\"hi-IN\",\n",
    "        target_language_code=\"en-US\",\n",
    "    )\n",
    "\n",
    "    streaming_config = mediatranslation.StreamingTranslateSpeechConfig(\n",
    "        audio_config=audio_config, single_utterance=True\n",
    "    )\n",
    "\n",
    "    def request_generator(config, audio_file_path):\n",
    "\n",
    "        # The first request contains the configuration.\n",
    "        # Note that audio_content is explicitly set to None.\n",
    "        yield mediatranslation.StreamingTranslateSpeechRequest(streaming_config=config)\n",
    "\n",
    "        with open(audio_file_path, \"rb\") as audio:\n",
    "            while True:\n",
    "                chunk = audio.read(4096)\n",
    "                if not chunk:\n",
    "                    break\n",
    "                yield mediatranslation.StreamingTranslateSpeechRequest(\n",
    "                    audio_content=chunk\n",
    "                )\n",
    "\n",
    "    requests = request_generator(streaming_config, input_file_path)\n",
    "    responses = client.streaming_translate_speech(requests)\n",
    "\n",
    "    with io.open(output_file_path, \"w\", encoding=\"utf-8\") as f:\n",
    "        for response in responses:\n",
    "            # Once the transcription settles, the response contains the\n",
    "            # is_final result. The other results will be for subsequent portions of\n",
    "            # the audio.\n",
    "            result = response.result\n",
    "            translation = result.text_translation_result.translation\n",
    "\n",
    "            if result.text_translation_result.is_final:\n",
    "                f.write(\"Final translation: {0}\\n\".format(translation))\n",
    "                document = language_v1.Document(content=translation, type_=language_v1.Document.Type.PLAIN_TEXT)\n",
    "                response = language_client.analyze_entities(document=document, encoding_type=language_v1.EncodingType.UTF8)\n",
    "                f.write(\"Entities:\\n\")\n",
    "                for entity in response.entities:\n",
    "                    f.write(f\"\\tName: {entity.name}, Type: {entity.type_.name}\\n\")\n",
    "                break\n",
    "\n",
    "            f.write(\"Partial translation: {0}\\n\".format(translation))\n",
    "if __name__ == '__main__':\n",
    "    translate_from_file()"
   ]
  },
  {
   "cell_type": "code",
   "execution_count": 5,
   "id": "5e2544aa",
   "metadata": {},
   "outputs": [],
   "source": [
    "\n",
    "def translate_file(input_file_path=\"output.txt\", output_file_path=\"translated_output.txt\"):\n",
    "    # Instantiates a client\n",
    "    client = translate.Client()\n",
    "\n",
    "    with io.open(input_file_path, \"r\", encoding=\"utf-8\") as f:\n",
    "        text = f.read()\n",
    "\n",
    "    # Translates the text\n",
    "    translation = client.translate(text, target_language=\"hi\")\n",
    "\n",
    "    with io.open(output_file_path, \"w\", encoding=\"utf-8\") as f:\n",
    "        f.write(translation[\"translatedText\"])\n",
    "\n",
    "if __name__ == '__main__':\n",
    "    translate_file()"
   ]
  },
  {
   "cell_type": "code",
   "execution_count": null,
   "id": "c28069ba",
   "metadata": {},
   "outputs": [],
   "source": []
  },
  {
   "cell_type": "code",
   "execution_count": 6,
   "id": "169f3f11",
   "metadata": {},
   "outputs": [],
   "source": [
    "# Delete temporary audio file\n",
    "import os\n",
    "os.remove(\"temp_audio_file.wav\")"
   ]
  },
  {
   "cell_type": "code",
   "execution_count": null,
   "id": "f635c9bc",
   "metadata": {},
   "outputs": [],
   "source": []
  }
 ],
 "metadata": {
  "kernelspec": {
   "display_name": "Python 3 (ipykernel)",
   "language": "python",
   "name": "python3"
  },
  "language_info": {
   "codemirror_mode": {
    "name": "ipython",
    "version": 3
   },
   "file_extension": ".py",
   "mimetype": "text/x-python",
   "name": "python",
   "nbconvert_exporter": "python",
   "pygments_lexer": "ipython3",
   "version": "3.9.13"
  }
 },
 "nbformat": 4,
 "nbformat_minor": 5
}
